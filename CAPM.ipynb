{
 "cells": [
  {
   "cell_type": "markdown",
   "metadata": {},
   "source": [
    "## Capital Asset Pricing Model (CAPM)\n",
    "### Strength Training with Functions, Numpy\n",
    "\n",
    "\n",
    "### University of Virginia\n",
    "### DS 5100: Programming for Data Science\n",
    "### Last Updated: March 18, 2021\n",
    "---"
   ]
  },
  {
   "cell_type": "markdown",
   "metadata": {},
   "source": [
    "### Objectives: \n",
    "- Use numpy and functions to compute a stock's CAPM beta\n",
    "- Perform sensitivity analysis to understand how the data points impact the beta estimate\n",
    "\n",
    "### Background\n",
    "\n",
    "\n",
    "In finance, CAPM is a single-factor regression model used for explaining and predicting excess stock returns. There are better, more accurate models, but it has its uses. For example, the *market beta* is a useful output.\n",
    "\n",
    "\n",
    "Here is the formula for calculating the expected excess return:\n",
    "\n",
    "\\begin{aligned} &E[R_i] - R_f  = \\beta_i ( E[R_m] - R_f ) \\\\ \\\\ &\\textbf{where:} \\\\ &ER_i = \\text{expected return of stock i} \\\\ &R_f = \\text{risk-free rate} \\\\ &\\beta_i = \\text{beta of the stock} \\\\ &ER_m - R_f = \\text{market risk premium} \\\\ \\end{aligned} \n",
    "\n",
    "#### Review the instructions below to complete the requested tasks.\n",
    "\n",
    "#### TOTAL POINTS: 10\n",
    "---  \n"
   ]
  },
  {
   "cell_type": "code",
   "execution_count": 12,
   "metadata": {},
   "outputs": [],
   "source": [
    "# load modules\n",
    "import numpy as np\n",
    "import pandas as pd\n",
    "\n",
    "# risk-free Treasury rate\n",
    "R_f = 0.0175 / 252"
   ]
  },
  {
   "cell_type": "code",
   "execution_count": 13,
   "metadata": {},
   "outputs": [],
   "source": [
    "# read in the market data\n",
    "data = pd.read_csv('capm_market_data.csv')"
   ]
  },
  {
   "cell_type": "markdown",
   "metadata": {},
   "source": [
    "Look at some records  \n",
    "SPY is an ETF for the S&P 500 (the \"stock market\")  \n",
    "AAPL is Apple  \n",
    "The values are closing prices, adjusted for splits and dividends"
   ]
  },
  {
   "cell_type": "code",
   "execution_count": 14,
   "metadata": {},
   "outputs": [
    {
     "data": {
      "text/html": [
       "<div>\n",
       "<style scoped>\n",
       "    .dataframe tbody tr th:only-of-type {\n",
       "        vertical-align: middle;\n",
       "    }\n",
       "\n",
       "    .dataframe tbody tr th {\n",
       "        vertical-align: top;\n",
       "    }\n",
       "\n",
       "    .dataframe thead th {\n",
       "        text-align: right;\n",
       "    }\n",
       "</style>\n",
       "<table border=\"1\" class=\"dataframe\">\n",
       "  <thead>\n",
       "    <tr style=\"text-align: right;\">\n",
       "      <th></th>\n",
       "      <th>date</th>\n",
       "      <th>spy_adj_close</th>\n",
       "      <th>aapl_adj_close</th>\n",
       "    </tr>\n",
       "  </thead>\n",
       "  <tbody>\n",
       "    <tr>\n",
       "      <th>0</th>\n",
       "      <td>2020-01-02</td>\n",
       "      <td>321.555786</td>\n",
       "      <td>298.829956</td>\n",
       "    </tr>\n",
       "    <tr>\n",
       "      <th>1</th>\n",
       "      <td>2020-01-03</td>\n",
       "      <td>319.120911</td>\n",
       "      <td>295.924713</td>\n",
       "    </tr>\n",
       "    <tr>\n",
       "      <th>2</th>\n",
       "      <td>2020-01-06</td>\n",
       "      <td>320.338379</td>\n",
       "      <td>298.282715</td>\n",
       "    </tr>\n",
       "    <tr>\n",
       "      <th>3</th>\n",
       "      <td>2020-01-07</td>\n",
       "      <td>319.437653</td>\n",
       "      <td>296.879883</td>\n",
       "    </tr>\n",
       "    <tr>\n",
       "      <th>4</th>\n",
       "      <td>2020-01-08</td>\n",
       "      <td>321.140106</td>\n",
       "      <td>301.655548</td>\n",
       "    </tr>\n",
       "  </tbody>\n",
       "</table>\n",
       "</div>"
      ],
      "text/plain": [
       "         date  spy_adj_close  aapl_adj_close\n",
       "0  2020-01-02     321.555786      298.829956\n",
       "1  2020-01-03     319.120911      295.924713\n",
       "2  2020-01-06     320.338379      298.282715\n",
       "3  2020-01-07     319.437653      296.879883\n",
       "4  2020-01-08     321.140106      301.655548"
      ]
     },
     "metadata": {},
     "output_type": "display_data"
    },
    {
     "data": {
      "text/html": [
       "<div>\n",
       "<style scoped>\n",
       "    .dataframe tbody tr th:only-of-type {\n",
       "        vertical-align: middle;\n",
       "    }\n",
       "\n",
       "    .dataframe tbody tr th {\n",
       "        vertical-align: top;\n",
       "    }\n",
       "\n",
       "    .dataframe thead th {\n",
       "        text-align: right;\n",
       "    }\n",
       "</style>\n",
       "<table border=\"1\" class=\"dataframe\">\n",
       "  <thead>\n",
       "    <tr style=\"text-align: right;\">\n",
       "      <th></th>\n",
       "      <th>date</th>\n",
       "      <th>spy_adj_close</th>\n",
       "      <th>aapl_adj_close</th>\n",
       "    </tr>\n",
       "  </thead>\n",
       "  <tbody>\n",
       "    <tr>\n",
       "      <th>130</th>\n",
       "      <td>2020-07-09</td>\n",
       "      <td>314.380005</td>\n",
       "      <td>383.010010</td>\n",
       "    </tr>\n",
       "    <tr>\n",
       "      <th>131</th>\n",
       "      <td>2020-07-10</td>\n",
       "      <td>317.589996</td>\n",
       "      <td>383.679993</td>\n",
       "    </tr>\n",
       "    <tr>\n",
       "      <th>132</th>\n",
       "      <td>2020-07-13</td>\n",
       "      <td>314.839996</td>\n",
       "      <td>381.910004</td>\n",
       "    </tr>\n",
       "    <tr>\n",
       "      <th>133</th>\n",
       "      <td>2020-07-14</td>\n",
       "      <td>318.920013</td>\n",
       "      <td>388.230011</td>\n",
       "    </tr>\n",
       "    <tr>\n",
       "      <th>134</th>\n",
       "      <td>2020-07-15</td>\n",
       "      <td>321.850006</td>\n",
       "      <td>390.899994</td>\n",
       "    </tr>\n",
       "  </tbody>\n",
       "</table>\n",
       "</div>"
      ],
      "text/plain": [
       "           date  spy_adj_close  aapl_adj_close\n",
       "130  2020-07-09     314.380005      383.010010\n",
       "131  2020-07-10     317.589996      383.679993\n",
       "132  2020-07-13     314.839996      381.910004\n",
       "133  2020-07-14     318.920013      388.230011\n",
       "134  2020-07-15     321.850006      390.899994"
      ]
     },
     "metadata": {},
     "output_type": "display_data"
    }
   ],
   "source": [
    "#I like the format of the return / display better than the print statement\n",
    "display(data.head(),data.tail())"
   ]
  },
  {
   "cell_type": "markdown",
   "metadata": {},
   "source": [
    "Drop the date column"
   ]
  },
  {
   "cell_type": "code",
   "execution_count": 15,
   "metadata": {},
   "outputs": [
    {
     "data": {
      "text/html": [
       "<div>\n",
       "<style scoped>\n",
       "    .dataframe tbody tr th:only-of-type {\n",
       "        vertical-align: middle;\n",
       "    }\n",
       "\n",
       "    .dataframe tbody tr th {\n",
       "        vertical-align: top;\n",
       "    }\n",
       "\n",
       "    .dataframe thead th {\n",
       "        text-align: right;\n",
       "    }\n",
       "</style>\n",
       "<table border=\"1\" class=\"dataframe\">\n",
       "  <thead>\n",
       "    <tr style=\"text-align: right;\">\n",
       "      <th></th>\n",
       "      <th>spy_adj_close</th>\n",
       "      <th>aapl_adj_close</th>\n",
       "    </tr>\n",
       "  </thead>\n",
       "  <tbody>\n",
       "    <tr>\n",
       "      <th>0</th>\n",
       "      <td>321.555786</td>\n",
       "      <td>298.829956</td>\n",
       "    </tr>\n",
       "    <tr>\n",
       "      <th>1</th>\n",
       "      <td>319.120911</td>\n",
       "      <td>295.924713</td>\n",
       "    </tr>\n",
       "    <tr>\n",
       "      <th>2</th>\n",
       "      <td>320.338379</td>\n",
       "      <td>298.282715</td>\n",
       "    </tr>\n",
       "    <tr>\n",
       "      <th>3</th>\n",
       "      <td>319.437653</td>\n",
       "      <td>296.879883</td>\n",
       "    </tr>\n",
       "    <tr>\n",
       "      <th>4</th>\n",
       "      <td>321.140106</td>\n",
       "      <td>301.655548</td>\n",
       "    </tr>\n",
       "    <tr>\n",
       "      <th>...</th>\n",
       "      <td>...</td>\n",
       "      <td>...</td>\n",
       "    </tr>\n",
       "    <tr>\n",
       "      <th>130</th>\n",
       "      <td>314.380005</td>\n",
       "      <td>383.010010</td>\n",
       "    </tr>\n",
       "    <tr>\n",
       "      <th>131</th>\n",
       "      <td>317.589996</td>\n",
       "      <td>383.679993</td>\n",
       "    </tr>\n",
       "    <tr>\n",
       "      <th>132</th>\n",
       "      <td>314.839996</td>\n",
       "      <td>381.910004</td>\n",
       "    </tr>\n",
       "    <tr>\n",
       "      <th>133</th>\n",
       "      <td>318.920013</td>\n",
       "      <td>388.230011</td>\n",
       "    </tr>\n",
       "    <tr>\n",
       "      <th>134</th>\n",
       "      <td>321.850006</td>\n",
       "      <td>390.899994</td>\n",
       "    </tr>\n",
       "  </tbody>\n",
       "</table>\n",
       "<p>135 rows × 2 columns</p>\n",
       "</div>"
      ],
      "text/plain": [
       "     spy_adj_close  aapl_adj_close\n",
       "0       321.555786      298.829956\n",
       "1       319.120911      295.924713\n",
       "2       320.338379      298.282715\n",
       "3       319.437653      296.879883\n",
       "4       321.140106      301.655548\n",
       "..             ...             ...\n",
       "130     314.380005      383.010010\n",
       "131     317.589996      383.679993\n",
       "132     314.839996      381.910004\n",
       "133     318.920013      388.230011\n",
       "134     321.850006      390.899994\n",
       "\n",
       "[135 rows x 2 columns]"
      ]
     },
     "execution_count": 15,
     "metadata": {},
     "output_type": "execute_result"
    }
   ],
   "source": [
    "#just checking the column names again\n",
    "#data.columns\n",
    "\n",
    "#data now equals the old data but just selected columns\n",
    "#data = data[['spy_adj_close', 'aapl_adj_close']]\n",
    "\n",
    "#Copy so that I can delete without lossing data forever\n",
    "df=data.copy()\n",
    "\n",
    "del df['date']\n",
    "\n",
    "df"
   ]
  },
  {
   "cell_type": "markdown",
   "metadata": {},
   "source": [
    "Compute daily returns (percentage changes in price) for SPY, AAPL  \n",
    "Be sure to drop the first row of NaN  \n",
    "Hint: pandas has functions to easily do this"
   ]
  },
  {
   "cell_type": "code",
   "execution_count": 16,
   "metadata": {},
   "outputs": [],
   "source": [
    "#playing around to see if i can do it without internet help \n",
    "#I did it, but there is a function for that \n",
    "'''\n",
    "df['daily_returns_spy']=np.nan\n",
    "for i in range(len(df.spy_adj_close)-1):\n",
    "    x=df.spy_adj_close[i]\n",
    "    y=df.spy_adj_close[i+1]\n",
    "    z = ((y-x)/x)\n",
    "    df.daily_returns_spy[i+1]=z\n",
    "    \n",
    "\n",
    "#data['daily_returns_spy']=[((data.spy_adj_close[i+1]-data.spy_adj_close[i])/data.spy_adj_close[i])*100 for i in range(len(data.spy_adj_close)-1) if i>=1]\n",
    "\n",
    "df['daily_returns_aapl']=np.nan\n",
    "for i in range(len(df.aapl_adj_close)-1):\n",
    "    a=df.aapl_adj_close[i]\n",
    "    b=df.aapl_adj_close[i+1]\n",
    "    c = ((b-a)/a) \n",
    "    df.daily_returns_aapl[i+1]=c  \n",
    "#drop first row with nan\n",
    "df=df.dropna()\n",
    "'''\n",
    "\n",
    "#pct_change() does it for you- then drop the nan in 1st row\n",
    "returns=df.pct_change(axis=0)\n",
    "\n",
    "returns.dropna(inplace=True)\n"
   ]
  },
  {
   "cell_type": "markdown",
   "metadata": {},
   "source": [
    "#### (1 PT) Print the first 5 rows of returns"
   ]
  },
  {
   "cell_type": "code",
   "execution_count": 17,
   "metadata": {},
   "outputs": [
    {
     "data": {
      "text/html": [
       "<div>\n",
       "<style scoped>\n",
       "    .dataframe tbody tr th:only-of-type {\n",
       "        vertical-align: middle;\n",
       "    }\n",
       "\n",
       "    .dataframe tbody tr th {\n",
       "        vertical-align: top;\n",
       "    }\n",
       "\n",
       "    .dataframe thead th {\n",
       "        text-align: right;\n",
       "    }\n",
       "</style>\n",
       "<table border=\"1\" class=\"dataframe\">\n",
       "  <thead>\n",
       "    <tr style=\"text-align: right;\">\n",
       "      <th></th>\n",
       "      <th>spy_adj_close</th>\n",
       "      <th>aapl_adj_close</th>\n",
       "    </tr>\n",
       "  </thead>\n",
       "  <tbody>\n",
       "    <tr>\n",
       "      <th>1</th>\n",
       "      <td>-0.007572</td>\n",
       "      <td>-0.009722</td>\n",
       "    </tr>\n",
       "    <tr>\n",
       "      <th>2</th>\n",
       "      <td>0.003815</td>\n",
       "      <td>0.007968</td>\n",
       "    </tr>\n",
       "    <tr>\n",
       "      <th>3</th>\n",
       "      <td>-0.002812</td>\n",
       "      <td>-0.004703</td>\n",
       "    </tr>\n",
       "    <tr>\n",
       "      <th>4</th>\n",
       "      <td>0.005330</td>\n",
       "      <td>0.016086</td>\n",
       "    </tr>\n",
       "    <tr>\n",
       "      <th>5</th>\n",
       "      <td>0.006781</td>\n",
       "      <td>0.021241</td>\n",
       "    </tr>\n",
       "  </tbody>\n",
       "</table>\n",
       "</div>"
      ],
      "text/plain": [
       "   spy_adj_close  aapl_adj_close\n",
       "1      -0.007572       -0.009722\n",
       "2       0.003815        0.007968\n",
       "3      -0.002812       -0.004703\n",
       "4       0.005330        0.016086\n",
       "5       0.006781        0.021241"
      ]
     },
     "execution_count": 17,
     "metadata": {},
     "output_type": "execute_result"
    }
   ],
   "source": [
    "#df[['daily_returns_spy','daily_returns_aapl']].head()\n",
    "returns.head()"
   ]
  },
  {
   "cell_type": "markdown",
   "metadata": {},
   "source": [
    "Save AAPL, SPY returns into separate numpy arrays  \n",
    "#### (1 PT) Print the first five values from the SPY numpy array, and the AAPL numpy array"
   ]
  },
  {
   "cell_type": "code",
   "execution_count": 23,
   "metadata": {},
   "outputs": [
    {
     "name": "stdout",
     "output_type": "stream",
     "text": [
      "spy [-0.00757217  0.00381507 -0.0028118   0.00532953  0.00678059]\n",
      "\n",
      "aapl [-0.00972206  0.00796825 -0.00470303  0.01608619  0.02124092]\n"
     ]
    },
    {
     "data": {
      "text/plain": [
       "numpy.ndarray"
      ]
     },
     "execution_count": 23,
     "metadata": {},
     "output_type": "execute_result"
    }
   ],
   "source": [
    "'''#save columns as individual arrays\n",
    "spy_returns=df.daily_returns_spy.values\n",
    "aapl_returns=df.daily_returns_aapl.values\n",
    "\n",
    "#Print them with label so you know what they are\n",
    "print('Spy Returns', spy_returns[:5])\n",
    "print('\\nAapl Returns', aapl_returns[:5])'''\n",
    "\n",
    "#save columns as arrays\n",
    "spy=returns.spy_adj_close.values\n",
    "aapl=returns.aapl_adj_close.values\n",
    "\n",
    "print('spy', spy[:5])\n",
    "print('\\naapl', aapl[:5])\n",
    "\n",
    "#Can check to see if it is an array\n",
    "#['column name'].values results in an array\n",
    "type(spy)"
   ]
  },
  {
   "cell_type": "markdown",
   "metadata": {},
   "source": [
    "##### Compute the excess returns of AAPL, SPY by simply subtracting the constant *R_f* from the returns.\n",
    "##### Specifically, for the numpy array containing AAPL returns, subtract *R_f* from each of the returns. Repeat for SPY returns.\n",
    "\n",
    "NOTE:  \n",
    "AAPL - *R_f* = excess return of Apple stock  \n",
    "SPY - *R_f* = excess return of stock market\n"
   ]
  },
  {
   "cell_type": "code",
   "execution_count": 25,
   "metadata": {},
   "outputs": [
    {
     "data": {
      "text/plain": [
       "array([-0.00764162,  0.00374562, -0.00288124,  0.00526009,  0.00671115])"
      ]
     },
     "metadata": {},
     "output_type": "display_data"
    },
    {
     "data": {
      "text/plain": [
       "array([-0.0097915 ,  0.0078988 , -0.00477247,  0.01601674,  0.02117147])"
      ]
     },
     "metadata": {},
     "output_type": "display_data"
    }
   ],
   "source": [
    "'''#new arrays using line comprhension\n",
    "spy_excess_returns=[s-R_f  for s in spy]\n",
    "\n",
    "aapl_excess_returns=[a-R_f for a in aapl]'''\n",
    "\n",
    "#subtract R_f from the spy and aapl\n",
    "spy_xs = spy - R_f\n",
    "aapl_xs=aapl - R_f\n",
    "\n",
    "#take a look\n",
    "display(spy_xs[:5],aapl_xs[:5])"
   ]
  },
  {
   "cell_type": "markdown",
   "metadata": {},
   "source": [
    "#### (1 PT) Print the LAST five excess returns from both AAPL, SPY numpy arrays\n"
   ]
  },
  {
   "cell_type": "code",
   "execution_count": 26,
   "metadata": {},
   "outputs": [
    {
     "name": "stdout",
     "output_type": "stream",
     "text": [
      "spy excess [-0.00576237  0.0101411  -0.00872841  0.01288957  0.00911779]\n",
      "\n",
      "aapl excss [ 0.00430032  0.00174926 -0.00461319  0.01654842  0.00687732]\n"
     ]
    }
   ],
   "source": [
    "'''#print the last 5 returns with labels so I know what they are\n",
    "print('spy_excess',spy_excess_returns[-5:])\n",
    "print('\\naapl_excess', aapl_excess_returns[-5:])'''\n",
    "\n",
    "print('spy excess', spy_xs[-5:])\n",
    "print('\\naapl excss', aapl[-5:])"
   ]
  },
  {
   "cell_type": "markdown",
   "metadata": {},
   "source": [
    "#### (1 PT) Make a scatterplot with SPY excess returns on x-axis, AAPL excess returns on y-axis####\n",
    "Matplotlib documentation: https://matplotlib.org/stable/api/_as_gen/matplotlib.pyplot.scatter.html"
   ]
  },
  {
   "cell_type": "code",
   "execution_count": 37,
   "metadata": {},
   "outputs": [
    {
     "data": {
      "image/png": "[encoded data removed]",
      "text/plain": [
       "<Figure size 432x288 with 1 Axes>"
      ]
     },
     "metadata": {
      "needs_background": "light"
     },
     "output_type": "display_data"
    }
   ],
   "source": [
    "#import so you can use it\n",
    "import matplotlib.pyplot as plt\n",
    "\n",
    "#scatter plot x, y , color of dots, edge color is the outline\n",
    "plt.scatter(spy_xs, aapl_xs, color='orange', edgecolor='blue')\n",
    "\n",
    "#show a grid\n",
    "plt.grid()\n",
    "\n",
    "#label the axises and give title\n",
    "plt.xlabel('Spy Excess')\n",
    "plt.ylabel('Aapl Excess')\n",
    "plt.title('Aapl against Spy Daily Excess')\n",
    "#returns plot? avoids other returns? \n",
    "plt.show()"
   ]
  },
  {
   "cell_type": "markdown",
   "metadata": {},
   "source": [
    "#### (3 PTS) Use Linear Algebra (matrices) to Compute the Regression Coefficient Estimate, \\\\(\\hat\\beta_i\\\\)\n",
    "\n",
    "Hint 1: Here is the matrix formula where *x′* denotes transpose of *x*.\n",
    "\n",
    "\\begin{aligned} \\hat\\beta_i=(x′x)^{−1}x′y \\end{aligned} \n",
    "\n",
    "Hint 2: consider numpy functions for matrix multiplication, transpose, and inverse. Be sure to review what these operations do, and how they work, if you're a bit rusty."
   ]
  },
  {
   "cell_type": "code",
   "execution_count": 40,
   "metadata": {},
   "outputs": [
    {
     "name": "stdout",
     "output_type": "stream",
     "text": [
      "1.08833170588181\n"
     ]
    }
   ],
   "source": [
    "#beta_hat = np.matmul(np.matmul(np.linalg.inv(np.matmul(x.transpose(), x)), x.transpose()), y)[0][0]\n",
    "\n",
    "#reshape arrays to column vectors <- forces them to a singel column\n",
    "x=spy_xs.reshape(-1,1)\n",
    "y=aapl_xs.reshape(-1,1)\n",
    "\n",
    "#multiply x'x - matmul is the matrix multiplier function\n",
    "xtransx = np.matmul(x.transpose(),x)\n",
    "\n",
    "#inverse is in the lin alg in np\n",
    "xtransxinv=np.linalg.inv(xtransx)\n",
    "\n",
    "#mutilpy the inverse by x'\n",
    "xtransxinvxtrans= np.matmul(xtransxinv, x.transpose())\n",
    "\n",
    "#to find beta then muliply by y (comes out as 1x1 array)\n",
    "beta= np.matmul(xtransxinvxtrans,y)\n",
    "\n",
    "#extract as a single value\n",
    "#beta_hat= np.matmul(xtransxinvxtrans,y)[0][0]\n",
    "beta_hat = beta[0][0]\n",
    "print(beta_hat)"
   ]
  },
  {
   "cell_type": "markdown",
   "metadata": {},
   "source": [
    "You should have found that the beta estimate is greater than one.  \n",
    "This means that the risk of AAPL stock, given the data, and according to this particular (flawed) model,  \n",
    "is higher relative to the risk of the S&P 500.\n"
   ]
  },
  {
   "cell_type": "markdown",
   "metadata": {},
   "source": []
  },
  {
   "cell_type": "markdown",
   "metadata": {},
   "source": [
    "#### Measuring Beta Sensitivity to Dropping Observations (Jackknifing)"
   ]
  },
  {
   "cell_type": "markdown",
   "metadata": {},
   "source": [
    "Let's understand how sensitive the beta is to each data point.   \n",
    "We want to drop each data point (one at a time), compute \\\\(\\hat\\beta_i\\\\) using our formula from above, and save each measurement.\n",
    "\n",
    "#### (3 PTS) Write a function called `beta_sensitivity()` with these specs:\n",
    "\n",
    "- take numpy arrays x and y as inputs\n",
    "- output a list of tuples. each tuple contains (observation row dropped, beta estimate)\n",
    "\n",
    "Hint: **np.delete(x, i).reshape(-1,1)** will delete observation i from array x, and make it a column vector"
   ]
  },
  {
   "cell_type": "code",
   "execution_count": 48,
   "metadata": {},
   "outputs": [],
   "source": [
    "def beta_sensitivity(x,y):\n",
    "    '''\n",
    "    Purpose: Given to np arrays (x & y) as input, output list of tuples containing \n",
    "             observation row dropped and beta estimate\n",
    "    \n",
    "    INPUT:\n",
    "    x      np array\n",
    "    y      np array\n",
    "    \n",
    "    OUTPUT:\n",
    "    out    list of tuples\n",
    "    '''\n",
    "    \n",
    "    out = []\n",
    "    #x.shape[0] gives the first term in the size of x\n",
    "    #shape usually returns rows,columns so this will give # of rows in x\n",
    "    sz = x.shape[0]\n",
    "    \n",
    "    \n",
    "    for ix in range(sz):\n",
    "        #this will delete observation i from array x, and make it a column vector\n",
    "        xx = np.delete(x,ix).reshape(-1,1)\n",
    "        yy=np.delete(y,ix).reshape(-1,1)\n",
    "        #Calculate B hat using oneliner\n",
    "        bi=np.matmul(np.matmul(np.linalg.inv(np.matmul(xx.transpose(), xx)), xx.transpose()), yy)[0][0]\n",
    "        out.append((ix,bi))\n",
    "    \n",
    "    return out"
   ]
  },
  {
   "cell_type": "markdown",
   "metadata": {},
   "source": [
    "#### Call `beta_sensitivity()` and print the first five tuples of output."
   ]
  },
  {
   "cell_type": "code",
   "execution_count": 49,
   "metadata": {},
   "outputs": [
    {
     "data": {
      "text/plain": [
       "[(0, 1.0882175232839157),\n",
       " (1, 1.0881867249750736),\n",
       " (2, 1.0882839540700082),\n",
       " (3, 1.087783412511201),\n",
       " (4, 1.087388967419927)]"
      ]
     },
     "execution_count": 49,
     "metadata": {},
     "output_type": "execute_result"
    }
   ],
   "source": [
    "betas = beta_sensitivity(x, y)\n",
    "betas[:5]"
   ]
  },
  {
   "cell_type": "code",
   "execution_count": null,
   "metadata": {},
   "outputs": [],
   "source": []
  }
 ],
 "metadata": {
  "kernelspec": {
   "display_name": "Python 3",
   "language": "python",
   "name": "python3"
  },
  "language_info": {
   "codemirror_mode": {
    "name": "ipython",
    "version": 3
   },
   "file_extension": ".py",
   "mimetype": "text/x-python",
   "name": "python",
   "nbconvert_exporter": "python",
   "pygments_lexer": "ipython3",
   "version": "3.8.5"
  }
 },
 "nbformat": 4,
 "nbformat_minor": 4
}
